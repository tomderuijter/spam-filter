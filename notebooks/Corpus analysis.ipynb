{
 "cells": [
  {
   "cell_type": "code",
   "execution_count": 1,
   "metadata": {
    "collapsed": true
   },
   "outputs": [],
   "source": [
    "# Go to source root\n",
    "import os\n",
    "os.chdir('../src/')"
   ]
  },
  {
   "cell_type": "code",
   "execution_count": 2,
   "metadata": {
    "collapsed": false,
    "scrolled": false
   },
   "outputs": [
    {
     "name": "stdout",
     "output_type": "stream",
     "text": [
      "Processed 1966 / 1966 emails (1.588s).\n",
      "Processed 13589 / 13719 emails (25.567s).\n"
     ]
    }
   ],
   "source": [
    "from email_ingestion import EmailIngester\n",
    "\n",
    "ham_path = '../data/raw/ham/beck-s/'\n",
    "spam_path = '../data/raw/spam/GP/'\n",
    "\n",
    "ingester = EmailIngester(tokenize=True)\n",
    "ham_data = ingester.ingest_folder(ham_path)\n",
    "spam_data = ingester.ingest_folder(spam_path)"
   ]
  },
  {
   "cell_type": "code",
   "execution_count": 3,
   "metadata": {
    "collapsed": false
   },
   "outputs": [],
   "source": [
    "def add_label(data, is_spam=False):\n",
    "    for record in data:\n",
    "        record['is_spam'] = is_spam\n",
    "        \n",
    "add_label(ham_data, is_spam=False)\n",
    "add_label(spam_data, is_spam=True)\n",
    "email_data = ham_data + spam_data"
   ]
  },
  {
   "cell_type": "markdown",
   "metadata": {},
   "source": [
    "### Corpus indexing\n",
    "Before generating bag of words features, the entire corpus of tokens needs to be indexed."
   ]
  },
  {
   "cell_type": "code",
   "execution_count": 4,
   "metadata": {
    "collapsed": false
   },
   "outputs": [],
   "source": [
    "def generate_corpus(data):\n",
    "    word_counts = count_words(data)\n",
    "    \n",
    "    filter_infrequent_words(word_counts, threshold=5)\n",
    "    filter_long_words(word_counts, threshold=20)\n",
    "    \n",
    "    return word_counts\n",
    "\n",
    "\n",
    "def count_words(data):\n",
    "    word_counts = {}\n",
    "\n",
    "    for record in spam_data:\n",
    "\n",
    "        if 'tokens' not in record:\n",
    "            continue\n",
    "\n",
    "        for token in record['tokens']:\n",
    "            if token in word_counts:\n",
    "                word_counts[token] += 1\n",
    "            else:\n",
    "                word_counts[token] = 1\n",
    "    return word_counts    \n",
    "\n",
    "\n",
    "def filter_infrequent_words(word_counts, threshold=5):\n",
    "    infrequent_words = []\n",
    "    \n",
    "    for word in word_counts:\n",
    "        if word_counts[word] < threshold:\n",
    "            infrequent_words.append(word)\n",
    "            \n",
    "    for word in infrequent_words:\n",
    "        word_counts.pop(word)\n",
    "        \n",
    "def filter_long_words(word_counts, threshold=20):\n",
    "    long_words = []\n",
    "    \n",
    "    for word in word_counts:\n",
    "        if len(word) > threshold:\n",
    "            long_words.append(word)\n",
    "            \n",
    "    for word in long_words:\n",
    "        word_counts.pop(word)"
   ]
  },
  {
   "cell_type": "markdown",
   "metadata": {},
   "source": [
    "### Characteristics of unigrams"
   ]
  },
  {
   "cell_type": "code",
   "execution_count": 5,
   "metadata": {
    "collapsed": false
   },
   "outputs": [
    {
     "data": {
      "image/png": "[encoded data removed]",
      "text/plain": [
       "<matplotlib.figure.Figure at 0x111c9fdd8>"
      ]
     },
     "metadata": {},
     "output_type": "display_data"
    },
    {
     "data": {
      "image/png": "[encoded data removed]",
      "text/plain": [
       "<matplotlib.figure.Figure at 0x115fe1080>"
      ]
     },
     "metadata": {},
     "output_type": "display_data"
    },
    {
     "name": "stdout",
     "output_type": "stream",
     "text": [
      "Corpus length: 34308\n"
     ]
    },
    {
     "data": {
      "text/plain": [
       "autonomic            5\n",
       "paucity              5\n",
       "mobi                 5\n",
       "pattichis            5\n",
       "comique              5\n",
       "lunatic              5\n",
       "sparling             5\n",
       "lunde                5\n",
       "sparrow              5\n",
       "quantico             5\n",
       "tycoonate            5\n",
       "imprudent            5\n",
       "impregnable          5\n",
       "twork                5\n",
       "moaned               5\n",
       "antonius             5\n",
       "twitch               5\n",
       "patrol               5\n",
       "spatlum              5\n",
       "gerretson            5\n",
       "cresswort            5\n",
       "impost               5\n",
       "gerund               5\n",
       "spass                5\n",
       "typesetter           5\n",
       "imprudentness        5\n",
       "drgoodhealth         5\n",
       "u18a                 5\n",
       "quadriceps           5\n",
       "mockery              5\n",
       "                 ...  \n",
       "free              2801\n",
       "been              2804\n",
       "within            2823\n",
       "money             2845\n",
       "these             2919\n",
       "which             2933\n",
       "message           2979\n",
       "2004              3011\n",
       "over              3050\n",
       "pills             3131\n",
       "time              3511\n",
       "nbsp              3705\n",
       "font              4000\n",
       "price             4169\n",
       "statements        4320\n",
       "email             4437\n",
       "only              4675\n",
       "information       4681\n",
       "please            4694\n",
       "more              5843\n",
       "here              5924\n",
       "company           6583\n",
       "will              7006\n",
       "have              9145\n",
       "http              9932\n",
       "from              9989\n",
       "that             12726\n",
       "with             13688\n",
       "your             18928\n",
       "this             21445\n",
       "Length: 34308, dtype: int64"
      ]
     },
     "execution_count": 5,
     "metadata": {},
     "output_type": "execute_result"
    }
   ],
   "source": [
    "import pandas as pd\n",
    "import matplotlib.pyplot as plt\n",
    "%matplotlib inline\n",
    "\n",
    "# TODO No longer works b/c tokenization\n",
    "corpus = generate_corpus(email_data)\n",
    "\n",
    "word_freq = pd.Series(corpus)\n",
    "word_freq.hist(bins=range(5, 50))\n",
    "plt.title('Word frequencies')\n",
    "plt.show()\n",
    "\n",
    "word_len = pd.Series(map(lambda s: len(s), list(corpus.keys())))\n",
    "word_len.hist(bins=range(3, 20))\n",
    "plt.title(\"Word lenght\")\n",
    "plt.show()\n",
    "\n",
    "print(\"Corpus length:\", len(corpus))\n",
    "word_freq.sort_values()\n",
    "\n"
   ]
  }
 ],
 "metadata": {
  "kernelspec": {
   "display_name": "Python 3",
   "language": "python",
   "name": "python3"
  },
  "language_info": {
   "codemirror_mode": {
    "name": "ipython",
    "version": 3
   },
   "file_extension": ".py",
   "mimetype": "text/x-python",
   "name": "python",
   "nbconvert_exporter": "python",
   "pygments_lexer": "ipython3",
   "version": "3.5.1"
  }
 },
 "nbformat": 4,
 "nbformat_minor": 0
}
