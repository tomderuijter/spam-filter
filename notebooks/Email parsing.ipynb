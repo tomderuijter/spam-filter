{
 "cells": [
  {
   "cell_type": "code",
   "execution_count": 1,
   "metadata": {
    "collapsed": false
   },
   "outputs": [],
   "source": [
    "from email.parser import Parser as EmailParser\n",
    "\n",
    "path = '../data/raw/ham/beck-s/2001_plan/1'\n",
    "\n",
    "parser = EmailParser()\n",
    "with open(path, 'r') as fp:\n",
    "    msg = parser.parse(fp)"
   ]
  },
  {
   "cell_type": "code",
   "execution_count": 2,
   "metadata": {
    "collapsed": false
   },
   "outputs": [
    {
     "name": "stdout",
     "output_type": "stream",
     "text": [
      "***Message-ID***\t <17575401.1075855758266.JavaMail.evans@thyme>\n",
      "***Date***\t Thu, 9 Nov 2000 10:44:00 -0800 (PST)\n",
      "***From***\t david.delainey@enron.com\n",
      "***To***\t wes.colwell@enron.com, sally.beck@enron.com, david.oxley@enron.com, \n",
      "\tmark.haedicke@enron.com, eric.thode@enron.com, \n",
      "\tstephen.douglass@enron.com, vince.kaminski@enron.com, \n",
      "\tscott.tholan@enron.com, brian.redmond@enron.com, \n",
      "\tjoseph.deffner@enron.com\n",
      "***Subject***\t 2001 Group Expenses\n",
      "***Mime-Version***\t 1.0\n",
      "***Content-Type***\t text/plain; charset=us-ascii\n",
      "***Content-Transfer-Encoding***\t 7bit\n",
      "***X-From***\t David W Delainey\n",
      "***X-To***\t Wes Colwell, Sally Beck, David Oxley, Mark E Haedicke, Eric Thode, Stephen Douglass, Vince J Kaminski, Scott Tholan, Brian Redmond, Joseph Deffner\n",
      "***X-cc***\t \n",
      "***X-bcc***\t \n",
      "***X-Origin***\t Beck-S\n",
      "***X-FileName***\t sbeck.nsf\n",
      "***Payload***\t Guys, attached you will find a final cut on the ENA 2001 expense budget.  \n",
      "Please review and make any adjustments to your existing plan that are \n",
      "appropriate to hit the net ENA target.  In order to stay flat year on year, I \n",
      "split the remaining positive variance equally across the groups.  As we had \n",
      "discussed earlier, these costs will not be allocated to the business units \n",
      "and will be tracked on the ENA income statement below the line and the \n",
      "accountability managed by each of you.  All outside variable costs, \n",
      "specifically related to specific deals, will be charged to the business units \n",
      "eg) outside legal and tax, outside technical expertise, facility costs, \n",
      "outside research support, incremental back and mid office support for \n",
      "specific asset management deals, specific entertainment, etc.  I look at this \n",
      "cost structure as the minimum capacity charge we need to operate our business \n",
      "and evaluate/manage our risks.\n",
      "\n",
      "Wes, can you please  finalize the one page plan (expenses and headcount) for \n",
      "each group with these changes.\n",
      "\n",
      "\n",
      "\n",
      "Regards\n",
      "Delainey\n"
     ]
    }
   ],
   "source": [
    "for key in msg:\n",
    "    print('***' + key + '***\\t', msg[key])\n",
    "    \n",
    "print('***Payload***\\t', msg.get_payload())"
   ]
  }
 ],
 "metadata": {
  "kernelspec": {
   "display_name": "Python 3",
   "language": "python",
   "name": "python3"
  },
  "language_info": {
   "codemirror_mode": {
    "name": "ipython",
    "version": 3
   },
   "file_extension": ".py",
   "mimetype": "text/x-python",
   "name": "python",
   "nbconvert_exporter": "python",
   "pygments_lexer": "ipython3",
   "version": "3.5.1"
  }
 },
 "nbformat": 4,
 "nbformat_minor": 0
}
