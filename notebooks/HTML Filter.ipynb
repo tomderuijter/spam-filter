{
 "cells": [
  {
   "cell_type": "code",
   "execution_count": 28,
   "metadata": {
    "collapsed": false
   },
   "outputs": [],
   "source": [
    "from html.parser import HTMLParser\n",
    "\n",
    "class MLStripper(HTMLParser):\n",
    "    \"\"\"    \n",
    "    Inspired by.\n",
    "    https://stackoverflow.com/questions/753052/strip-html-from-strings-in-python\n",
    "    \"\"\"\n",
    "    def __init__(self):\n",
    "        self.reset()\n",
    "        self.strict = False\n",
    "        self.convert_charrefs= True\n",
    "        self.tag_data = []\n",
    "\n",
    "        self.pause = 0\n",
    "\n",
    "    def handle_data(self, d):\n",
    "        if self.pause <= 0:\n",
    "            self.tag_data.append(d)\n",
    "\n",
    "    def handle_starttag(self, tag, attributes):\n",
    "\n",
    "        if tag == 'style':\n",
    "            self.pause += 1\n",
    "    \n",
    "    def handle_endtag(self, tag):\n",
    "\n",
    "        if tag =='style':\n",
    "            self.pause -= 1\n",
    "            \n",
    "    def get_data(self):\n",
    "        return ' '.join(self.tag_data)\n",
    "\n",
    "def strip_tags(html):\n",
    "    s = MLStripper()\n",
    "    s.feed(html)\n",
    "    return s.get_data()\n"
   ]
  },
  {
   "cell_type": "code",
   "execution_count": 29,
   "metadata": {
    "collapsed": false
   },
   "outputs": [
    {
     "name": "stdout",
     "output_type": "stream",
     "text": [
      "shakedown NEWSLETTER stop NEWS bushel ISSUE taffy Discount RX  High Quality Ge neric Medication | No Prescripti on Required Ge neric Cial is (Tadalaf il 20mg) Quantity Dosage Per Pill Price (USD) 10 Pill Bottle Tad alafil 20mg $9.60   $96  -  O rder Now 20 Pill Bottle Tadalafi l 20mg $7.00 $140  -  Orde r Now 50 Pill Bottle Tadal afil 20mg $5.70 $285  -  Or der Now 90 Pill Bottle Tadalafi l 20mg $5.20 $469  -  Or der Now 120 Pill Bottle Tadalaf il 20mg $5.00 $600  -  O rder Now 200 Pill Bottle Tadalaf il 20mg $4.80 $960  -  Ord er Now Erec tile Dys function is the inability to achieve or maintain an erection which affects many men. Erec tile dy sfunction is more commonly known as impo tence. It occurs when the nerves or blood vessels in the peni s do not function properly. The reason for this could be either physiological (physical) or psychological (mental). In most cases, it is physical, and that's when products such as Cial is can help.  Cli ck here to visit Dis countRX.  C IALIS (Chemical name: T adalafil) is an anti-im potence drug. It is a small yellow pill and is in a class of medication known as PDE -5 inhibitors, which are used to treat ere ctile dy sfunction. Ciali s acts like Viagr a by blocking an enzyme called Phosph odiester-5 (P DE-5). This helps the smooth muscles in the p enis to relax and widen, which allows for more blood to enter. As a result, men suffering from im potence gain erecti ons faster, easier and for longer.  C lick here to visit D iscountRX. Gener ic Ciali s (Tadal afil 20mg) Quantity Dosage Per Pill Price (USD) 10 Pill Bottle Tadalaf il 20mg $9.60   $96  -  O rder Now 20 Pill Bottle T adalafil 20mg $7.00 $140  -  Orde r Now 50 Pill Bottle Tadalafi l 20mg $5.70 $285  -  Or der Now 90 Pill Bottle Tad alafil 20mg $5.20 $469  -  Ord er Now 120 Pill Bottle Tada lafil 20mg $5.00 $600  -  Ord er Now 200 Pill Bottle Tadal afil 20mg $4.80 $960  -  Ord er Now   chess exploration fayetteville sonnet   Don't want anymore  sixfold cezanne bathe  gain byers chloride restaurateur\n"
     ]
    }
   ],
   "source": [
    "# Some spam\n",
    "s = open('spam_example.html', 'r').read().strip()\n",
    "print(strip_tags(s))"
   ]
  },
  {
   "cell_type": "code",
   "execution_count": 30,
   "metadata": {
    "collapsed": false
   },
   "outputs": [
    {
     "data": {
      "text/plain": [
       "'Hello world!'"
      ]
     },
     "execution_count": 30,
     "metadata": {},
     "output_type": "execute_result"
    }
   ],
   "source": [
    "strip_tags(\"Hello world!\")"
   ]
  }
 ],
 "metadata": {
  "kernelspec": {
   "display_name": "Python 3",
   "language": "python",
   "name": "python3"
  },
  "language_info": {
   "codemirror_mode": {
    "name": "ipython",
    "version": 3
   },
   "file_extension": ".py",
   "mimetype": "text/x-python",
   "name": "python",
   "nbconvert_exporter": "python",
   "pygments_lexer": "ipython3",
   "version": "3.5.1"
  }
 },
 "nbformat": 4,
 "nbformat_minor": 0
}
