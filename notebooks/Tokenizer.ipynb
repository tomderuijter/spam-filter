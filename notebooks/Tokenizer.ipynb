{
 "cells": [
  {
   "cell_type": "markdown",
   "metadata": {},
   "source": [
    "## Tokenizer\n",
    "Filter and normalize subject and body\n",
    "\n",
    "This procedure works regardless of header."
   ]
  },
  {
   "cell_type": "code",
   "execution_count": 9,
   "metadata": {
    "collapsed": false
   },
   "outputs": [],
   "source": [
    "# Email parser\n",
    "from email.parser import Parser as EmailParser\n",
    "\n",
    "path = '../data/raw/ham/beck-s/2001_plan/1'\n",
    "\n",
    "class Tokenizer:\n",
    "    \n",
    "    def __init__(self):\n",
    "        self.parser = EmailParser()\n",
    "\n",
    "    def tokenize(path):\n",
    "        \n",
    "        with open(path, 'r') as fp:\n",
    "            msg = self.parser.parse(fp)\n",
    "        \n",
    "        # Do filtering of records\n",
    "        # TODO\n",
    "        \n",
    "        # Extract following information\n",
    "        \"\"\"\n",
    "        - sent date\n",
    "        - sender\n",
    "        - recipient(s)\n",
    "        - cc\n",
    "        - bcc\n",
    "        - subject\n",
    "        - body\n",
    "        \"\"\"\n",
    "        return msg\n"
   ]
  },
  {
   "cell_type": "code",
   "execution_count": 76,
   "metadata": {
    "collapsed": false,
    "scrolled": false
   },
   "outputs": [
    {
     "name": "stdout",
     "output_type": "stream",
     "text": [
      "***Return-Path***\t <Denny@mailbox.sk>\n",
      "***Delivered-To***\t rait@bruce-guenter.dyndns.org\n",
      "***Received***\t (qmail 10573 invoked from network); 31 Jul 2004 18:41:37 -0000\n",
      "***Received***\t (qmail 10573 invoked from network); 31 Jul 2004 18:41:37 -0000\n",
      "***Received***\t (qmail 10573 invoked from network); 31 Jul 2004 18:41:37 -0000\n",
      "***Received***\t (qmail 10573 invoked from network); 31 Jul 2004 18:41:37 -0000\n",
      "***Received***\t (qmail 10573 invoked from network); 31 Jul 2004 18:41:37 -0000\n",
      "***Received***\t (qmail 10573 invoked from network); 31 Jul 2004 18:41:37 -0000\n",
      "***Message-ID***\t <ZWGIAOGFNYSAGOTRMYLYK@techie.com>\n",
      "***From***\t \"Bertha \" <Denny@mailbox.sk>\n",
      "***Reply-To***\t \"Bertha \" <Denny@mailbox.sk>\n",
      "***To***\t rait@bruce-guenter.dyndns.org\n",
      "***Subject***\t Get it up and keep it up praecox\n",
      "***Date***\t Sat, 31 Jul 2004 12:39:33 -0700\n",
      "***MIME-Version***\t 1.0\n",
      "***Content-Type***\t multipart/alternative;\n",
      "\tboundary=\"--0877493464186802207\"\n",
      "***X-Originating-IP***\t 69.5.6.152\n",
      "***Content-Length***\t 8141\n",
      "***Lines***\t 9\n",
      "True\n"
     ]
    },
    {
     "ename": "IndexError",
     "evalue": "list index out of range",
     "output_type": "error",
     "traceback": [
      "\u001b[0;31m---------------------------------------------------------------------------\u001b[0m",
      "\u001b[0;31mIndexError\u001b[0m                                Traceback (most recent call last)",
      "\u001b[0;32m<ipython-input-76-9a1bf1a3903b>\u001b[0m in \u001b[0;36m<module>\u001b[0;34m()\u001b[0m\n\u001b[1;32m     41\u001b[0m \u001b[0;31m# Check for multi-part email\u001b[0m\u001b[0;34m\u001b[0m\u001b[0;34m\u001b[0m\u001b[0m\n\u001b[1;32m     42\u001b[0m \u001b[0mprint\u001b[0m\u001b[0;34m(\u001b[0m\u001b[0mmsg\u001b[0m\u001b[0;34m[\u001b[0m\u001b[0;34m'Content-Type'\u001b[0m\u001b[0;34m]\u001b[0m\u001b[0;34m.\u001b[0m\u001b[0mstartswith\u001b[0m\u001b[0;34m(\u001b[0m\u001b[0;34m'multipart/alternative;'\u001b[0m\u001b[0;34m)\u001b[0m\u001b[0;34m)\u001b[0m\u001b[0;34m\u001b[0m\u001b[0m\n\u001b[0;32m---> 43\u001b[0;31m \u001b[0mmsg\u001b[0m\u001b[0;34m.\u001b[0m\u001b[0mget_payload\u001b[0m\u001b[0;34m(\u001b[0m\u001b[0;34m)\u001b[0m\u001b[0;34m[\u001b[0m\u001b[0;36m1\u001b[0m\u001b[0;34m]\u001b[0m\u001b[0;34m[\u001b[0m\u001b[0;34m'Content-Type'\u001b[0m\u001b[0;34m]\u001b[0m\u001b[0;34m\u001b[0m\u001b[0m\n\u001b[0m",
      "\u001b[0;31mIndexError\u001b[0m: list index out of range"
     ]
    }
   ],
   "source": [
    "import re\n",
    "    \n",
    "### Subject and body tokenizer\n",
    "def tokenize(message):\n",
    "    assert isinstance(message, str)\n",
    "\n",
    "    message = message.lower()\n",
    "    tokens = split_words(message)\n",
    "    tokens = filter_word_length(tokens, minimum_length=4)\n",
    "    return tokens\n",
    "    \n",
    "def split_words(message):\n",
    "    \"\"\"\n",
    "    Benchmark taken from \n",
    "    https://stackoverflow.com/questions/1276764/stripping-everything-but-alphanumeric-chars-from-a-string-in-python.\n",
    "    \"\"\"\n",
    "    pattern = re.compile('[\\W_]+')\n",
    "    return pattern.split(message)\n",
    "    \n",
    "def filter_word_length(words, minimum_length=4):\n",
    "    \"\"\"Language indifferent substitute for stop word filter.\"\"\"\n",
    "    return list(\n",
    "        filter(\n",
    "            lambda w: len(w) >= minimum_length,\n",
    "            words\n",
    "        )\n",
    "    )\n",
    "\n",
    "from email.parser import Parser as EmailParser\n",
    "path = '../data/raw/spam/BG/2004/08/1091394468.23940_19.txt'\n",
    "# path = '../data/raw/spam/BG/2004/08/1093472721.17176_247.txt'\n",
    "# path = '../data/raw/spam/BG/2004/08/1092075616.29722_7.txt'\n",
    "msg = EmailParser().parse(open(path, 'r'))\n",
    "\n",
    "# print(tokenize(msg.get_payload()))\n",
    "\n",
    "# Meta features\n",
    "for key in msg:\n",
    "    print('***' + key + '***\\t', msg[key])\n",
    "\n",
    "# Check for multi-part email\n",
    "print(msg['Content-Type'].startswith('multipart/alternative;'))"
   ]
  },
  {
   "cell_type": "code",
   "execution_count": 36,
   "metadata": {
    "collapsed": false
   },
   "outputs": [
    {
     "data": {
      "text/plain": [
       "'darin.talley@enron.com'"
      ]
     },
     "execution_count": 36,
     "metadata": {},
     "output_type": "execute_result"
    }
   ],
   "source": [
    "email = msg\n",
    "\n",
    "date = email['Date']\n",
    "sender = email['From']\n",
    "recipients = email['To']\n",
    "subject = email['Subject']\n",
    "charset = email.get_charsets()\n",
    "\n",
    "sender"
   ]
  },
  {
   "cell_type": "code",
   "execution_count": 56,
   "metadata": {
    "collapsed": false
   },
   "outputs": [
    {
     "data": {
      "text/plain": [
       "'Tue, 26 Sep 2000 07:37:00 -0700 (PDT)'"
      ]
     },
     "execution_count": 56,
     "metadata": {},
     "output_type": "execute_result"
    }
   ],
   "source": [
    "date"
   ]
  }
 ],
 "metadata": {
  "kernelspec": {
   "display_name": "Python 3",
   "language": "python",
   "name": "python3"
  },
  "language_info": {
   "codemirror_mode": {
    "name": "ipython",
    "version": 3
   },
   "file_extension": ".py",
   "mimetype": "text/x-python",
   "name": "python",
   "nbconvert_exporter": "python",
   "pygments_lexer": "ipython3",
   "version": "3.5.1"
  }
 },
 "nbformat": 4,
 "nbformat_minor": 0
}
